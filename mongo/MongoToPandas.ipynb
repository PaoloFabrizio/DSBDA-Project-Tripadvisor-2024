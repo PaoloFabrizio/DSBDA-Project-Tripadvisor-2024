{
 "cells": [
  {
   "cell_type": "code",
   "execution_count": 2,
   "id": "9b7032d7-f7f3-44f4-bbf7-1a88737a015b",
   "metadata": {},
   "outputs": [
    {
     "name": "stdout",
     "output_type": "stream",
     "text": [
      "                        _id  index                         restaurant_name  \\\n",
      "0  667ea36de95823cbcf2ebede    210                         Meat Steakhouse   \n",
      "1  667ea36de95823cbcf2ebedf    212                              131 Street   \n",
      "2  667ea36de95823cbcf2ebee0    211  Boulangerie Pâtisserie Breads Paradise   \n",
      "3  667ea36de95823cbcf2ebee1    213                      Les Frères Da Cruz   \n",
      "4  667ea36de95823cbcf2ebee2    214                   Creperie de la Mairie   \n",
      "\n",
      "  country         region      province            city   latitude longitude  \\\n",
      "0  France  Ile-de-France  Val-de-Marne  Maisons-Alfort  48.816128  2.420467   \n",
      "1  France  Ile-de-France  Val-de-Marne  Maisons-Alfort  48.794495  2.434294   \n",
      "2  France  Ile-de-France  Val-de-Marne  Maisons-Alfort   48.81508  2.417853   \n",
      "3  France  Ile-de-France  Val-de-Marne  Maisons-Alfort  48.807163  2.445887   \n",
      "4  France  Ile-de-France  Val-de-Marne  Maisons-Alfort   48.80013   2.43233   \n",
      "\n",
      "     claimed  ... food service value atmosphere field37 field38 field39  \\\n",
      "0  Unclaimed  ...                                   NaN     NaN     NaN   \n",
      "1  Unclaimed  ...                                   NaN     NaN     NaN   \n",
      "2  Unclaimed  ...                                   NaN     NaN     NaN   \n",
      "3    Claimed  ...                                   NaN     NaN     NaN   \n",
      "4  Unclaimed  ...                                   NaN     NaN     NaN   \n",
      "\n",
      "  field40 field41 field42  \n",
      "0     NaN     NaN     NaN  \n",
      "1     NaN     NaN     NaN  \n",
      "2     NaN     NaN     NaN  \n",
      "3     NaN     NaN     NaN  \n",
      "4     NaN     NaN     NaN  \n",
      "\n",
      "[5 rows x 44 columns]\n",
      "(49239, 44)\n"
     ]
    }
   ],
   "source": [
    "import pandas as pd\n",
    "from pymongo import MongoClient\n",
    "\n",
    "# Connessione al server MongoDB (assicurati che il server MongoDB sia in esecuzione)\n",
    "client = MongoClient('localhost', 27017)\n",
    "\n",
    "# Seleziona il database\n",
    "db = client['DB_Proj_DSBDA']\n",
    "\n",
    "# Seleziona la collezione\n",
    "collection = db['ProjectDSBDA']\n",
    "\n",
    "# Esegui una query per leggere tutti i documenti dalla collezione\n",
    "cursor = collection.find({})\n",
    "\n",
    "# Converti i documenti in un DataFrame pandas\n",
    "df = pd.DataFrame(list(cursor))\n",
    "\n",
    "# Chiudi la connessione al client MongoDB\n",
    "client.close()\n",
    "\n",
    "# Stampa il DataFrame\n",
    "print(df.head())  # Stampa le prime righe del DataFrame per verificarne il contenuto\n",
    "print(df.shape)"
   ]
  }
 ],
 "metadata": {
  "kernelspec": {
   "display_name": "Python 3 (ipykernel)",
   "language": "python",
   "name": "python3"
  },
  "language_info": {
   "codemirror_mode": {
    "name": "ipython",
    "version": 3
   },
   "file_extension": ".py",
   "mimetype": "text/x-python",
   "name": "python",
   "nbconvert_exporter": "python",
   "pygments_lexer": "ipython3",
   "version": "3.8.10"
  }
 },
 "nbformat": 4,
 "nbformat_minor": 5
}
