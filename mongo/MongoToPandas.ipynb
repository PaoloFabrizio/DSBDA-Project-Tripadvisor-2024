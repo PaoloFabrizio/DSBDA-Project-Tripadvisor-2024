{
 "cells": [
  {
   "cell_type": "code",
   "execution_count": 2,
   "id": "9b7032d7-f7f3-44f4-bbf7-1a88737a015b",
   "metadata": {},
   "outputs": [
    {
     "name": "stdout",
     "output_type": "stream",
     "text": [
      "                        _id        city              restarant_name  \\\n",
      "0  668547797d9d8441f0dee406         -                           -     \n",
      "1  668547797d9d8441f0dee407         -                           -     \n",
      "2  668547797d9d8441f0dee408         -                           -     \n",
      "3  668547797d9d8441f0dee409         -                           -     \n",
      "4  668547797d9d8441f0dee40a  Abeilhan      La Pie'zz Abeilhanaise     \n",
      "\n",
      "      country     province  index  awards price_range  \\\n",
      "0         -            -        0     -           -     \n",
      "1         -            -        0     -           -     \n",
      "2         -            -        0     -           -     \n",
      "3         -            -        0     -           -     \n",
      "4    France      Herault    13426    \"\"      €9-€22     \n",
      "\n",
      "                                       cuisines features vegetarian_friendly  \\\n",
      "0                                           -        -                   -     \n",
      "1                                           -        -                   -     \n",
      "2                                           -        -                   -     \n",
      "3                                           -        -                   -     \n",
      "4    French; Steakhouse; Pizza; Mediterranean       \"\"                   N     \n",
      "\n",
      "  vegan_options gluten_free open_hours_per_week avg_rating  population  \n",
      "0           -           -                   -          -             0  \n",
      "1           -           -                   -          -             0  \n",
      "2           -           -                   -          -             0  \n",
      "3           -           -                   -          -             0  \n",
      "4           N           N                21.0        4.5             0  \n",
      "(93144, 16)\n"
     ]
    }
   ],
   "source": [
    "#!/usr/bin/env python\n",
    "# coding: utf-8\n",
    "\n",
    "# In[1]:\n",
    "\n",
    "\n",
    "import pandas as pd\n",
    "from pymongo import MongoClient\n",
    "\n",
    "# Connessione al server MongoDB (assicurati che il server MongoDB sia in esecuzione)\n",
    "client = MongoClient('localhost', 27017)\n",
    "\n",
    "# Seleziona il database\n",
    "db = client['DB_Proj_DSBDA']\n",
    "\n",
    "# Seleziona la collezione\n",
    "collection = db['ProjectDSBDA']\n",
    "\n",
    "# Esegui una query per leggere i documenti dalla collezione\n",
    "cursor = collection.find({}).limit(850000)\n",
    "\n",
    "# Converti i documenti in un DataFrame pandas\n",
    "df = pd.DataFrame(list(cursor))\n",
    "\n",
    "# Chiudi la connessione al client MongoDB\n",
    "client.close()\n",
    "\n",
    "\n",
    "print(df.head())\n",
    "print(df.shape)"
   ]
  }
 ],
 "metadata": {
  "kernelspec": {
   "display_name": "Python 3 (ipykernel)",
   "language": "python",
   "name": "python3"
  },
  "language_info": {
   "codemirror_mode": {
    "name": "ipython",
    "version": 3
   },
   "file_extension": ".py",
   "mimetype": "text/x-python",
   "name": "python",
   "nbconvert_exporter": "python",
   "pygments_lexer": "ipython3",
   "version": "3.8.10"
  }
 },
 "nbformat": 4,
 "nbformat_minor": 5
}
