import pandas as pd
from pymongo import MongoClient

# Connessione al server MongoDB (assicurati che il server MongoDB sia in esecuzione)
client = MongoClient('localhost', 27017)

# Seleziona il database
db = client['DB_Proj_DSBDA']

# Seleziona la collezione
collection = db['ProjectDSBDA']

# Esegui una query per leggere tutti i documenti dalla collezione
cursor = collection.find({})

# Converti i documenti in un DataFrame pandas
df = pd.DataFrame(list(cursor))

# Chiudi la connessione al client MongoDB
client.close()

# Stampa il DataFrame
print(df.head())  # Stampa le prime righe del DataFrame per verificarne il contenuto
print(df.shape)
