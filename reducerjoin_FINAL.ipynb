{
 "cells": [
  {
   "cell_type": "code",
   "execution_count": null,
   "id": "648bc955-541f-45cb-8f57-39b52ad41e01",
   "metadata": {},
   "outputs": [],
   "source": [
    "\"\"\"reducer.py\"\"\"\n",
    "\n",
    "import sys\n",
    "\n",
    "last_city_name = None\n",
    "cur_city_population = \"0\"\n",
    "\n",
    "for line in sys.stdin:\n",
    "    line = line.strip()\n",
    "    parts = line.split(\"\\t\")\n",
    "    \n",
    "    # \"cat xxx1.csv xxx2.csv | python mapper.py | sort\" gives some output with only 2 values for line, ignore them\n",
    "    if len(parts) != 15:\n",
    "        continue\n",
    "    \n",
    "    city_name, restaurant_name, country, province, index, awards, price_range, cuisines, features, veget, vegan, gluten, open_hours, avg_rating, city_population = parts\n",
    "\n",
    "    if not last_city_name or last_city_name != city_name:\n",
    "        last_city_name = city_name\n",
    "        cur_city_population = city_population\n",
    "    elif last_city_name == city_name:\n",
    "        print(city_name, \"\\t\", restaurant_name, \"\\t\",  country, \"\\t\",  province, \"\\t\",  index, \"\\t\",  awards, \"\\t\",  price_range, \"\\t\",  cuisines, \"\\t\",  features, \"\\t\",  veget, \"\\t\",  vegan, \"\\t\",  gluten, \"\\t\",  open_hours, \"\\t\",  avg_rating, \"\\t\", cur_city_population)"
   ]
  }
 ],
 "metadata": {
  "kernelspec": {
   "display_name": "Python 3 (ipykernel)",
   "language": "python",
   "name": "python3"
  },
  "language_info": {
   "codemirror_mode": {
    "name": "ipython",
    "version": 3
   },
   "file_extension": ".py",
   "mimetype": "text/x-python",
   "name": "python",
   "nbconvert_exporter": "python",
   "pygments_lexer": "ipython3",
   "version": "3.8.10"
  }
 },
 "nbformat": 4,
 "nbformat_minor": 5
}
