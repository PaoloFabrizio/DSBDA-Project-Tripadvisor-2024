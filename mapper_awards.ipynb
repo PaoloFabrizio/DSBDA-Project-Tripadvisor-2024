{
 "cells": [
  {
   "cell_type": "code",
   "execution_count": null,
   "id": "ac147765-9767-472c-860e-1d0ad16259ee",
   "metadata": {},
   "outputs": [],
   "source": [
    "\"\"\"mapper.py\"\"\"\n",
    "\n",
    "import sys\n",
    "import csv\n",
    "\n",
    "input = sys.stdin.read()\n",
    "\n",
    "# we need to do some preprocessing otherwise fields like \"Breakfast, Lunch, Dinner, After-hours, Drinks\" would become different fields\n",
    "lines = input.splitlines()\n",
    "reader = csv.reader(lines, delimiter=',', quotechar='\"')\n",
    "\n",
    "for splits in reader:\n",
    "    if len(splits) > 9:\n",
    "        id = splits[0].strip()\n",
    "        Restaurant = splits[1].strip()\n",
    "        Awards = splits[9].strip()\n",
    "\n",
    "        if Awards == '\"\"' or Awards == '':\n",
    "            print(f\"{Restaurant}\\t{id}\\t0\")\n",
    "        else:\n",
    "            awards = Awards.split(', ')\n",
    "            k = len(awards)\n",
    "            for i in range(k):\n",
    "                print(f\"{Restaurant}\\t{id}\\t1\")\n",
    "    else:\n",
    "        continue\n"
   ]
  }
 ],
 "metadata": {
  "kernelspec": {
   "display_name": "Python 3 (ipykernel)",
   "language": "python",
   "name": "python3"
  },
  "language_info": {
   "codemirror_mode": {
    "name": "ipython",
    "version": 3
   },
   "file_extension": ".py",
   "mimetype": "text/x-python",
   "name": "python",
   "nbconvert_exporter": "python",
   "pygments_lexer": "ipython3",
   "version": "3.8.10"
  }
 },
 "nbformat": 4,
 "nbformat_minor": 5
}
