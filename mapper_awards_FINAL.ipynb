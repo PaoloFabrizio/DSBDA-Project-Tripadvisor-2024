{
 "cells": [
  {
   "cell_type": "code",
   "execution_count": null,
   "id": "ac147765-9767-472c-860e-1d0ad16259ee",
   "metadata": {},
   "outputs": [],
   "source": [
    "import sys\n",
    "import csv\n",
    "\n",
    "input = sys.stdin.read()\n",
    "\n",
    "# Aumenta il limite massimo di caratteri per un campo CSV\n",
    "csv.field_size_limit(10000000)\n",
    "\n",
    "# Leggi direttamente dall'input standard senza preprocessare\n",
    "reader = csv.reader(input.splitlines(), delimiter=',', quotechar='\"')\n",
    "\n",
    "for splits in reader:\n",
    "    if len(splits) == 14:\n",
    "        id = splits[0].strip()\n",
    "        Restaurant = splits[1].strip()\n",
    "        country = splits[2].strip()\n",
    "        province = splits[3].strip()\n",
    "        city_name = splits[4].strip()\n",
    "        Awards = splits[5].strip()\n",
    "        price_range = splits[6].strip()\n",
    "        cuisines = splits[7].strip()\n",
    "        features = splits[8].strip()\n",
    "        veget = splits[9].strip()\n",
    "        vegan = splits[10].strip()\n",
    "        gluten = splits[11].strip()\n",
    "        open_hours = splits[12].strip()\n",
    "        avg_rating = splits[13].strip()\n",
    "\n",
    "        if Awards == '\"\"' or Awards == '':\n",
    "            print(f\"{id}\\t{Restaurant}\\t{country}\\t{province}\\t{city_name}\\t0\\t{price_range}\\t{cuisines}\\t{features}\\t{veget}\\t{vegan}\\t{gluten}\\t{open_hours}\\t{avg_rating}\")\n",
    "        else:\n",
    "            awards = Awards.split('; ')\n",
    "            for award in awards:\n",
    "                print(f\"{id}\\t{Restaurant}\\t{country}\\t{province}\\t{city_name}\\t1\\t{price_range}\\t{cuisines}\\t{features}\\t{veget}\\t{vegan}\\t{gluten}\\t{open_hours}\\t{avg_rating}\")\n",
    "    else:\n",
    "        continue\n"
   ]
  }
 ],
 "metadata": {
  "kernelspec": {
   "display_name": "Python 3 (ipykernel)",
   "language": "python",
   "name": "python3"
  },
  "language_info": {
   "codemirror_mode": {
    "name": "ipython",
    "version": 3
   },
   "file_extension": ".py",
   "mimetype": "text/x-python",
   "name": "python",
   "nbconvert_exporter": "python",
   "pygments_lexer": "ipython3",
   "version": "3.8.10"
  }
 },
 "nbformat": 4,
 "nbformat_minor": 5
}
