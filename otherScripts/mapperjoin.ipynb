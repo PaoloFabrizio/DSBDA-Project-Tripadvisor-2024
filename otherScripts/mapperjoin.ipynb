{
 "cells": [
  {
   "cell_type": "code",
   "execution_count": null,
   "id": "2d1d3310-bc2d-4eaa-a23a-aca63d8dcf4b",
   "metadata": {},
   "outputs": [],
   "source": [
    "\"\"\"mapper.py\"\"\"\n",
    "\n",
    "import sys\n",
    "\n",
    "for line in sys.stdin:\n",
    "  city_name = \"-\"\n",
    "  city_population = \"0\"\n",
    "  restaurant_name = \"-\"\n",
    "\n",
    "  line = line.strip()\n",
    "  splits = line.split(\",\")\n",
    "  if len(splits) == 2:\n",
    "    city_population = splits[0]\n",
    "    city_name = splits[1]\n",
    "  elif len(splits) == 42:\n",
    "    city_name = splits[5]\n",
    "    restaurant_name = splits[1]\n",
    "    if city_name == \"\" or restaurant_name.startswith('\"'):\n",
    "      continue\n",
    "  print(city_name, \"\\t\", restaurant_name, \"\\t\",  city_population)"
   ]
  }
 ],
 "metadata": {
  "kernelspec": {
   "display_name": "Python 3 (ipykernel)",
   "language": "python",
   "name": "python3"
  },
  "language_info": {
   "codemirror_mode": {
    "name": "ipython",
    "version": 3
   },
   "file_extension": ".py",
   "mimetype": "text/x-python",
   "name": "python",
   "nbconvert_exporter": "python",
   "pygments_lexer": "ipython3",
   "version": "3.8.10"
  }
 },
 "nbformat": 4,
 "nbformat_minor": 5
}
