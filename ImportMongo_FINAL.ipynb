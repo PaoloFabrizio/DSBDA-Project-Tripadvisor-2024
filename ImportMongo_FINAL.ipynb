{
 "cells": [
  {
   "cell_type": "code",
   "execution_count": 2,
   "id": "13dc9ffe-7703-426b-9e59-e686ad2bc803",
   "metadata": {},
   "outputs": [
    {
     "name": "stdout",
     "output_type": "stream",
     "text": [
      "Number of documents imported in 'DB_Proj_DSBDA': 81990\n"
     ]
    }
   ],
   "source": [
    "import pandas as pd\n",
    "from pymongo import MongoClient\n",
    "import csv\n",
    "\n",
    "dtype_spec = {\n",
    "    \"index\":int,\n",
    "    \"restaurant_name\": str,\n",
    "    \"country\": str,\n",
    "    \"province\": str,\n",
    "    \"city\": str,\n",
    "    \"num_awards\": str,\n",
    "    \"price_range\" : str,\n",
    "    \"cuisines\" : str,\n",
    "    \"features\" : str,\n",
    "    \"vegetarian_friendly\" : str,\n",
    "    \"vegan_options\" : str,\n",
    "    \"gluten_free\" : str,\n",
    "    \"open_hours_per_week\" : str,\n",
    "    \"avg_rating\" : str,\n",
    "    \"population\" : int,\n",
    "}\n",
    "\n",
    "column_names = [\"city\",\"restarant_name\",\"country\",\"province\",\"index\",\n",
    "                \"num_awards\",\"price_range\",\"cuisines\",\"features\",\"vegetarian_friendly\",\n",
    "                \"vegan_options\",\"gluten_free\",\"open_hours_per_week\",\n",
    "                \"avg_rating\",\"population\"]\n",
    "\n",
    "df = pd.read_csv('mr_final.tsv', sep='\\t', header=None, names=column_names, dtype=dtype_spec)\n",
    "\n",
    "# import in MongoDB\n",
    "client = MongoClient('mongodb://localhost:27017/')\n",
    "db = client['DB_Proj_DSBDA'] \n",
    "collection = db['ProjectDSBDA']\n",
    "dictionary = df.to_dict(orient='records')\n",
    "result = collection.insert_many(dictionary)\n",
    "document_count = collection.count_documents({})\n",
    "print(f\"Number of documents imported in 'DB_Proj_DSBDA': {document_count}\")"
   ]
  }
 ],
 "metadata": {
  "kernelspec": {
   "display_name": "Python 3 (ipykernel)",
   "language": "python",
   "name": "python3"
  },
  "language_info": {
   "codemirror_mode": {
    "name": "ipython",
    "version": 3
   },
   "file_extension": ".py",
   "mimetype": "text/x-python",
   "name": "python",
   "nbconvert_exporter": "python",
   "pygments_lexer": "ipython3",
   "version": "3.8.10"
  }
 },
 "nbformat": 4,
 "nbformat_minor": 5
}
