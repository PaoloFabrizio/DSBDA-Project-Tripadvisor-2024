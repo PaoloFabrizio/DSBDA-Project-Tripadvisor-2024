{
 "cells": [
  {
   "cell_type": "code",
   "execution_count": null,
   "id": "2d1d3310-bc2d-4eaa-a23a-aca63d8dcf4b",
   "metadata": {},
   "outputs": [],
   "source": [
    "\"\"\"mapper.py\"\"\"\n",
    "\n",
    "import sys\n",
    "\n",
    "for line in sys.stdin:\n",
    "    index = \"0\"\n",
    "    restaurant_name = \"-\"\n",
    "    country = \"-\"\n",
    "    province = \"-\"\n",
    "    city_name = \"-\"\n",
    "    awards = \"-\"\n",
    "    price_range = \"-\"\n",
    "    cuisines = \"-\"\n",
    "    features = \"-\"\n",
    "    veget = \"-\"\n",
    "    vegan = \"-\"\n",
    "    gluten = \"-\"\n",
    "    open_hours = \"-\"\n",
    "    avg_rating = \"-\"\n",
    "    city_population = \"0\"\n",
    "\n",
    "    line = line.strip()\n",
    "    splits = line.split(\",\")\n",
    "    \n",
    "    if len(splits) == 2:\n",
    "        city_population = splits[0]\n",
    "        city_name = splits[1]\n",
    "      \n",
    "    elif len(splits) == 14:\n",
    "        index = splits[0]  \n",
    "        restaurant_name = splits[1]\n",
    "        country = splits[2]\n",
    "        province = splits[3]  \n",
    "        city_name = splits[4]\n",
    "        awards = splits[5]\n",
    "        price_range = splits[6]\n",
    "        cuisines = splits[7]\n",
    "        features = splits[8]\n",
    "        veget = splits[9]\n",
    "        vegan = splits[10]\n",
    "        gluten = splits[11]\n",
    "        open_hours = splits[12]\n",
    "        avg_rating = splits[13]\n",
    "      \n",
    "        if city_name == \"\" or restaurant_name.startswith('\"'):\n",
    "          continue\n",
    "        \n",
    "    print(city_name, \"\\t\", restaurant_name, \"\\t\",  country, \"\\t\",  province, \"\\t\",  index, \"\\t\",  awards, \"\\t\",  price_range, \"\\t\",  cuisines, \"\\t\",  features,\"\\t\",  veget, \"\\t\",  vegan, \"\\t\",  gluten, \"\\t\",  open_hours, \"\\t\",  avg_rating, \"\\t\", city_population)"
   ]
  }
 ],
 "metadata": {
  "kernelspec": {
   "display_name": "Python 3 (ipykernel)",
   "language": "python",
   "name": "python3"
  },
  "language_info": {
   "codemirror_mode": {
    "name": "ipython",
    "version": 3
   },
   "file_extension": ".py",
   "mimetype": "text/x-python",
   "name": "python",
   "nbconvert_exporter": "python",
   "pygments_lexer": "ipython3",
   "version": "3.8.10"
  }
 },
 "nbformat": 4,
 "nbformat_minor": 5
}
